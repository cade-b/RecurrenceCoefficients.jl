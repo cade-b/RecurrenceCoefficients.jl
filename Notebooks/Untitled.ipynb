{
 "cells": [
  {
   "cell_type": "code",
   "execution_count": 1,
   "id": "b8c966d5",
   "metadata": {},
   "outputs": [
    {
     "name": "stderr",
     "output_type": "stream",
     "text": [
      "┌ Info: Precompiling RecurrenceCoefficients [de372851-07f4-4192-bc5b-b0c28d817e5e]\n",
      "└ @ Base loading.jl:1423\n"
     ]
    }
   ],
   "source": [
    "using RecurrenceCoefficients"
   ]
  },
  {
   "cell_type": "code",
   "execution_count": 2,
   "id": "c282f9b2",
   "metadata": {},
   "outputs": [
    {
     "data": {
      "text/plain": [
       "2×2 Matrix{Int128}:\n",
       " 120  10\n",
       " 120  10"
      ]
     },
     "execution_count": 2,
     "metadata": {},
     "output_type": "execute_result"
    }
   ],
   "source": [
    "bands = [-3.0 -2.0; 2.0 3.0]\n",
    "nmat = [120*ones(size(bands,1)) 10*ones(size(bands,1))] .|> Int128"
   ]
  },
  {
   "cell_type": "code",
   "execution_count": 16,
   "id": "f523a81e",
   "metadata": {},
   "outputs": [
    {
     "name": "stdout",
     "output_type": "stream",
     "text": [
      "  0.532778 seconds (1.52 M allocations: 719.289 MiB, 6.16% gc time)\n"
     ]
    },
    {
     "data": {
      "text/plain": [
       "2.5248762345905167"
      ]
     },
     "execution_count": 16,
     "metadata": {},
     "output_type": "execute_result"
    }
   ],
   "source": [
    "@time (avec,bvec) = get_n_coeffs(bands,50)\n",
    "bvec[1]"
   ]
  },
  {
   "cell_type": "code",
   "execution_count": 4,
   "id": "17bf509f",
   "metadata": {},
   "outputs": [
    {
     "name": "stdout",
     "output_type": "stream",
     "text": [
      "  1.377431 seconds (3.78 M allocations: 862.212 MiB, 5.22% gc time, 61.42% compilation time)\n"
     ]
    },
    {
     "data": {
      "text/plain": [
       "([-2.0000000000000067, 2.000000000000006, -2.000000000000003, 2.0000000000000044, -2.0000000000000036, 2.0000000000000053, -2.0000000000000036, 2.000000000000003, -2.000000000000002, 2.000000000000002  …  2.0000000000000027, -2.000000000000004, 2.0000000000000018, -1.9999999999999942, 1.9999999999999916, -1.9999999999999947, 2.0000000000000027, -2.0000000000000058, 2.000000000000003, -2.000000000000005], [1.118033988749932, 1.1180339887498434, 1.1180339887499344, 1.1180339887498423, 1.1180339887499364, 1.1180339887498447, 1.1180339887499344, 1.1180339887498465, 1.1180339887499333, 1.118033988749851  …  1.1180339887499424, 1.1180339887498636, 1.1180339887499366, 1.1180339887498467, 1.1180339887499304, 1.1180339887498518, 1.1180339887499495, 1.1180339887498578, 1.1180339887499435, 1.1180339887498651])"
      ]
     },
     "execution_count": 4,
     "metadata": {},
     "output_type": "execute_result"
    }
   ],
   "source": [
    "R = pts -> ( z ->  map(y -> sqrt(z+eps()im - y |> Complex),pts) |> prod)\n",
    "function special_h(j)\n",
    "    if j == size(bands,1)\n",
    "        return x -> -R(bands[1:end-1,1])(x)/R(bands[1:end-1,2])(x)\n",
    "    else\n",
    "        out_points = bands[1:end .!= j,:]\n",
    "        return x -> (x-bands[end,2])*R(out_points[:,1])(x)/R(out_points[:,2])(x)\n",
    "    end\n",
    "end\n",
    "\n",
    "function special_type(bands)\n",
    "    typemat = 3*ones(size(bands,1)) .|> Int128\n",
    "    typemat[end] = 2\n",
    "    typemat\n",
    "end\n",
    "\n",
    "@time get_n_coeffs_mixed(bands,50,special_type(bands),special_h)"
   ]
  },
  {
   "cell_type": "code",
   "execution_count": 9,
   "id": "07e8201d",
   "metadata": {},
   "outputs": [
    {
     "data": {
      "text/plain": [
       "([-1.4023989542285248e-16, 2.839132580704704e-16, 6.965640370328105e-16, -2.0923184355592258e-16, -1.3943127955561088e-16, -4.877901376855617e-16, 5.574894911420134e-16, -8.362264196331514e-16, 6.968591802778931e-17, 7.665425453246397e-16  …  0.0, 0.0, 0.0, 0.0, 0.0, 0.0, 0.0, 0.0, 0.0, 0.0], [0.4999999999999962, 0.49999999999999567, 0.4999999999999953, 0.49999999999999517, 0.4999999999999952, 0.49999999999999556, 0.499999999999996, 0.49999999999999667, 0.4999999999999974, 0.49999999999999795  …  0.5000000000000003, 0.5000000000000003, 0.5000000000000003, 0.5000000000000003, 0.5000000000000003, 0.5000000000000003, 0.5000000000000003, 0.5000000000000003, 0.5000000000000003, 0.5000000000000003])"
      ]
     },
     "execution_count": 9,
     "metadata": {},
     "output_type": "execute_result"
    }
   ],
   "source": [
    "get_n_coeffs1int(x->1,100,-1.,1.)"
   ]
  },
  {
   "cell_type": "code",
   "execution_count": 9,
   "id": "227b9b5b",
   "metadata": {},
   "outputs": [
    {
     "data": {
      "text/plain": [
       "Matrix{Int128} (alias for Array{Int128, 2})"
      ]
     },
     "execution_count": 9,
     "metadata": {},
     "output_type": "execute_result"
    }
   ],
   "source": [
    "nmat = [120*ones(size(bands,1)) 20*ones(size(bands,1))] .|> Int128\n",
    "h(j) = x->1\n",
    "typeof(nmat)"
   ]
  },
  {
   "cell_type": "code",
   "execution_count": 8,
   "id": "98cb4c0b",
   "metadata": {},
   "outputs": [
    {
     "data": {
      "text/plain": [
       "String"
      ]
     },
     "execution_count": 8,
     "metadata": {},
     "output_type": "execute_result"
    }
   ],
   "source": [
    "typeof(\"T\")"
   ]
  },
  {
   "cell_type": "code",
   "execution_count": 7,
   "id": "8529bc25",
   "metadata": {},
   "outputs": [
    {
     "data": {
      "text/plain": [
       "ftest (generic function with 3 methods)"
      ]
     },
     "execution_count": 7,
     "metadata": {},
     "output_type": "execute_result"
    }
   ],
   "source": [
    "function ftest(x,y=nothing,z=nothing)\n",
    "    if y == nothing\n",
    "        y = 0\n",
    "    end\n",
    "    if z == nothing\n",
    "        z = 0\n",
    "    end\n",
    "    x+y-z\n",
    "end"
   ]
  },
  {
   "cell_type": "code",
   "execution_count": 9,
   "id": "14fda97b",
   "metadata": {},
   "outputs": [
    {
     "data": {
      "text/plain": [
       "2"
      ]
     },
     "execution_count": 9,
     "metadata": {},
     "output_type": "execute_result"
    }
   ],
   "source": [
    "ftest(1,2,1)"
   ]
  },
  {
   "cell_type": "code",
   "execution_count": 4,
   "id": "e3f4cb9e",
   "metadata": {},
   "outputs": [
    {
     "data": {
      "text/plain": [
       "#7 (generic function with 1 method)"
      ]
     },
     "execution_count": 4,
     "metadata": {},
     "output_type": "execute_result"
    }
   ],
   "source": [
    "h = j->(x->1)"
   ]
  },
  {
   "cell_type": "code",
   "execution_count": 5,
   "id": "d77b6bf2",
   "metadata": {},
   "outputs": [
    {
     "data": {
      "text/plain": [
       "1"
      ]
     },
     "execution_count": 5,
     "metadata": {},
     "output_type": "execute_result"
    }
   ],
   "source": [
    "h(1)(1)"
   ]
  },
  {
   "cell_type": "code",
   "execution_count": null,
   "id": "110ffb7e",
   "metadata": {},
   "outputs": [],
   "source": []
  }
 ],
 "metadata": {
  "kernelspec": {
   "display_name": "Julia 1.7.2",
   "language": "julia",
   "name": "julia-1.7"
  },
  "language_info": {
   "file_extension": ".jl",
   "mimetype": "application/julia",
   "name": "julia",
   "version": "1.7.2"
  }
 },
 "nbformat": 4,
 "nbformat_minor": 5
}
